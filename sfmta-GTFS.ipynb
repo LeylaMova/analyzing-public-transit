{
 "cells": [
  {
   "cell_type": "markdown",
   "metadata": {},
   "source": [
    "# Public Transportation Data Investigation"
   ]
  },
  {
   "cell_type": "markdown",
   "metadata": {},
   "source": [
    "> ### Goal\n",
    "> Given a coordinate find 5 closest public transportation in a radius."
   ]
  },
  {
   "cell_type": "markdown",
   "metadata": {},
   "source": [
    ">### Domain\n",
    ">The General Transit Feed Specification (GTFS), also known as GTFS static or static transit to differentiate it from the GTFS real-time extension, defines a common format for public transportation schedules and associated geographic information. GTFS \"feeds\" let public transit agencies publish their transit data and developers write applications that consume that data in an interoperable way.\n",
    "\n",
    ">For the purpose of prototyping, we'll be using one data set from San Francisco Municipal Transportation Agency (SFMTA)."
   ]
  },
  {
   "cell_type": "code",
   "execution_count": 1,
   "metadata": {},
   "outputs": [],
   "source": [
    "import pandas as pd\n",
    "import numpy as np\n",
    "from sklearn.neighbors import NearestNeighbors\n",
    "\n",
    "import seaborn as sns\n",
    "import matplotlib.pyplot as plt\n",
    "\n",
    "%matplotlib inline"
   ]
  },
  {
   "cell_type": "code",
   "execution_count": 2,
   "metadata": {},
   "outputs": [],
   "source": [
    "df = pd.read_csv('data/GTFS-sfmta/stops.txt')"
   ]
  },
  {
   "cell_type": "code",
   "execution_count": 3,
   "metadata": {},
   "outputs": [],
   "source": [
    "df['agency_name'] = 'Muni'"
   ]
  },
  {
   "cell_type": "code",
   "execution_count": 4,
   "metadata": {},
   "outputs": [
    {
     "data": {
      "text/html": [
       "<div>\n",
       "<style>\n",
       "    .dataframe thead tr:only-child th {\n",
       "        text-align: right;\n",
       "    }\n",
       "\n",
       "    .dataframe thead th {\n",
       "        text-align: left;\n",
       "    }\n",
       "\n",
       "    .dataframe tbody tr th {\n",
       "        vertical-align: top;\n",
       "    }\n",
       "</style>\n",
       "<table border=\"1\" class=\"dataframe\">\n",
       "  <thead>\n",
       "    <tr style=\"text-align: right;\">\n",
       "      <th></th>\n",
       "      <th>stop_lat</th>\n",
       "      <th>stop_code</th>\n",
       "      <th>stop_lon</th>\n",
       "      <th>stop_url</th>\n",
       "      <th>stop_id</th>\n",
       "      <th>stop_desc</th>\n",
       "      <th>stop_name</th>\n",
       "      <th>location_type</th>\n",
       "      <th>zone_id</th>\n",
       "      <th>agency_name</th>\n",
       "    </tr>\n",
       "  </thead>\n",
       "  <tbody>\n",
       "    <tr>\n",
       "      <th>0</th>\n",
       "      <td>37.792357</td>\n",
       "      <td>14026</td>\n",
       "      <td>-122.421010</td>\n",
       "      <td>NaN</td>\n",
       "      <td>4026</td>\n",
       "      <td>NaN</td>\n",
       "      <td>Clay St &amp; Polk St</td>\n",
       "      <td>0</td>\n",
       "      <td>NaN</td>\n",
       "      <td>Muni</td>\n",
       "    </tr>\n",
       "    <tr>\n",
       "      <th>1</th>\n",
       "      <td>37.793826</td>\n",
       "      <td>14027</td>\n",
       "      <td>-122.409591</td>\n",
       "      <td>NaN</td>\n",
       "      <td>4027</td>\n",
       "      <td>NaN</td>\n",
       "      <td>Clay St &amp; Powell St</td>\n",
       "      <td>0</td>\n",
       "      <td>NaN</td>\n",
       "      <td>Muni</td>\n",
       "    </tr>\n",
       "    <tr>\n",
       "      <th>2</th>\n",
       "      <td>37.793653</td>\n",
       "      <td>14024</td>\n",
       "      <td>-122.410823</td>\n",
       "      <td>NaN</td>\n",
       "      <td>4024</td>\n",
       "      <td>NaN</td>\n",
       "      <td>Clay St &amp; Mason St</td>\n",
       "      <td>0</td>\n",
       "      <td>NaN</td>\n",
       "      <td>Muni</td>\n",
       "    </tr>\n",
       "    <tr>\n",
       "      <th>3</th>\n",
       "      <td>37.794682</td>\n",
       "      <td>14025</td>\n",
       "      <td>-122.402770</td>\n",
       "      <td>NaN</td>\n",
       "      <td>4025</td>\n",
       "      <td>NaN</td>\n",
       "      <td>Clay St &amp; Montgomery St</td>\n",
       "      <td>0</td>\n",
       "      <td>NaN</td>\n",
       "      <td>Muni</td>\n",
       "    </tr>\n",
       "    <tr>\n",
       "      <th>4</th>\n",
       "      <td>37.792526</td>\n",
       "      <td>14022</td>\n",
       "      <td>-122.419589</td>\n",
       "      <td>NaN</td>\n",
       "      <td>4022</td>\n",
       "      <td>NaN</td>\n",
       "      <td>Clay St &amp; Larkin St</td>\n",
       "      <td>0</td>\n",
       "      <td>NaN</td>\n",
       "      <td>Muni</td>\n",
       "    </tr>\n",
       "  </tbody>\n",
       "</table>\n",
       "</div>"
      ],
      "text/plain": [
       "    stop_lat  stop_code    stop_lon  stop_url stop_id  stop_desc  \\\n",
       "0  37.792357      14026 -122.421010       NaN    4026        NaN   \n",
       "1  37.793826      14027 -122.409591       NaN    4027        NaN   \n",
       "2  37.793653      14024 -122.410823       NaN    4024        NaN   \n",
       "3  37.794682      14025 -122.402770       NaN    4025        NaN   \n",
       "4  37.792526      14022 -122.419589       NaN    4022        NaN   \n",
       "\n",
       "                 stop_name  location_type  zone_id agency_name  \n",
       "0        Clay St & Polk St              0      NaN        Muni  \n",
       "1      Clay St & Powell St              0      NaN        Muni  \n",
       "2       Clay St & Mason St              0      NaN        Muni  \n",
       "3  Clay St & Montgomery St              0      NaN        Muni  \n",
       "4      Clay St & Larkin St              0      NaN        Muni  "
      ]
     },
     "execution_count": 4,
     "metadata": {},
     "output_type": "execute_result"
    }
   ],
   "source": [
    "df.head()"
   ]
  },
  {
   "cell_type": "code",
   "execution_count": 5,
   "metadata": {},
   "outputs": [
    {
     "data": {
      "text/plain": [
       "(3565, 10)"
      ]
     },
     "execution_count": 5,
     "metadata": {},
     "output_type": "execute_result"
    }
   ],
   "source": [
    "df.shape"
   ]
  },
  {
   "cell_type": "code",
   "execution_count": 6,
   "metadata": {},
   "outputs": [
    {
     "data": {
      "text/plain": [
       "(1107, 10)"
      ]
     },
     "execution_count": 6,
     "metadata": {},
     "output_type": "execute_result"
    }
   ],
   "source": [
    "df[df['stop_name'].duplicated()].shape"
   ]
  },
  {
   "cell_type": "markdown",
   "metadata": {},
   "source": [
    ">### Problem with Stops\n",
    "> It looks like we have two sets of coordinates for each stop one for NorthBound and one for SouthBound. For the purpose of prototyping, I am just going to choose NorthBound."
   ]
  },
  {
   "cell_type": "code",
   "execution_count": 7,
   "metadata": {},
   "outputs": [],
   "source": [
    "df = df[~df['stop_name'].duplicated()]"
   ]
  },
  {
   "cell_type": "code",
   "execution_count": 8,
   "metadata": {},
   "outputs": [
    {
     "data": {
      "text/plain": [
       "(2458, 10)"
      ]
     },
     "execution_count": 8,
     "metadata": {},
     "output_type": "execute_result"
    }
   ],
   "source": [
    "df.shape"
   ]
  },
  {
   "cell_type": "markdown",
   "metadata": {},
   "source": [
    ">### Data \n",
    "\n",
    ">SFMTA-GTFS contains 3,565 stops and 9 attributes.<br>\n",
    "Attributes include:<br>\n",
    "**Stop ID, Stop Code, Stop URL, Stop Name, Description, Location Type, Zone ID, Latitude and Longitude.**"
   ]
  },
  {
   "cell_type": "markdown",
   "metadata": {},
   "source": [
    ">### Visualizing the Coordinates Muni"
   ]
  },
  {
   "cell_type": "code",
   "execution_count": 10,
   "metadata": {},
   "outputs": [
    {
     "data": {
      "image/png": "[encoded data removed]",
      "text/plain": [
       "<matplotlib.figure.Figure at 0x1a09c5cb00>"
      ]
     },
     "metadata": {},
     "output_type": "display_data"
    }
   ],
   "source": [
    "sns.set()\n",
    "plt.figure(figsize=(15,10))\n",
    "plt.plot(df['stop_lon'], df['stop_lat'], 'o', markersize=4)\n",
    "plt.show()"
   ]
  },
  {
   "cell_type": "code",
   "execution_count": 11,
   "metadata": {},
   "outputs": [],
   "source": [
    "df = df[['stop_lat','stop_lon','stop_name','agency_name']]"
   ]
  },
  {
   "cell_type": "code",
   "execution_count": 12,
   "metadata": {},
   "outputs": [
    {
     "data": {
      "text/html": [
       "<div>\n",
       "<style>\n",
       "    .dataframe thead tr:only-child th {\n",
       "        text-align: right;\n",
       "    }\n",
       "\n",
       "    .dataframe thead th {\n",
       "        text-align: left;\n",
       "    }\n",
       "\n",
       "    .dataframe tbody tr th {\n",
       "        vertical-align: top;\n",
       "    }\n",
       "</style>\n",
       "<table border=\"1\" class=\"dataframe\">\n",
       "  <thead>\n",
       "    <tr style=\"text-align: right;\">\n",
       "      <th></th>\n",
       "      <th>stop_lat</th>\n",
       "      <th>stop_lon</th>\n",
       "      <th>stop_name</th>\n",
       "      <th>agency_name</th>\n",
       "    </tr>\n",
       "  </thead>\n",
       "  <tbody>\n",
       "    <tr>\n",
       "      <th>0</th>\n",
       "      <td>37.792357</td>\n",
       "      <td>-122.421010</td>\n",
       "      <td>Clay St &amp; Polk St</td>\n",
       "      <td>Muni</td>\n",
       "    </tr>\n",
       "    <tr>\n",
       "      <th>1</th>\n",
       "      <td>37.793826</td>\n",
       "      <td>-122.409591</td>\n",
       "      <td>Clay St &amp; Powell St</td>\n",
       "      <td>Muni</td>\n",
       "    </tr>\n",
       "    <tr>\n",
       "      <th>2</th>\n",
       "      <td>37.793653</td>\n",
       "      <td>-122.410823</td>\n",
       "      <td>Clay St &amp; Mason St</td>\n",
       "      <td>Muni</td>\n",
       "    </tr>\n",
       "    <tr>\n",
       "      <th>3</th>\n",
       "      <td>37.794682</td>\n",
       "      <td>-122.402770</td>\n",
       "      <td>Clay St &amp; Montgomery St</td>\n",
       "      <td>Muni</td>\n",
       "    </tr>\n",
       "    <tr>\n",
       "      <th>4</th>\n",
       "      <td>37.792526</td>\n",
       "      <td>-122.419589</td>\n",
       "      <td>Clay St &amp; Larkin St</td>\n",
       "      <td>Muni</td>\n",
       "    </tr>\n",
       "  </tbody>\n",
       "</table>\n",
       "</div>"
      ],
      "text/plain": [
       "    stop_lat    stop_lon                stop_name agency_name\n",
       "0  37.792357 -122.421010        Clay St & Polk St        Muni\n",
       "1  37.793826 -122.409591      Clay St & Powell St        Muni\n",
       "2  37.793653 -122.410823       Clay St & Mason St        Muni\n",
       "3  37.794682 -122.402770  Clay St & Montgomery St        Muni\n",
       "4  37.792526 -122.419589      Clay St & Larkin St        Muni"
      ]
     },
     "execution_count": 12,
     "metadata": {},
     "output_type": "execute_result"
    }
   ],
   "source": [
    "df.head()"
   ]
  },
  {
   "cell_type": "markdown",
   "metadata": {},
   "source": [
    ">### Visualizing the Coordinates Caltrain"
   ]
  },
  {
   "cell_type": "code",
   "execution_count": 13,
   "metadata": {},
   "outputs": [
    {
     "data": {
      "text/html": [
       "<div>\n",
       "<style>\n",
       "    .dataframe thead tr:only-child th {\n",
       "        text-align: right;\n",
       "    }\n",
       "\n",
       "    .dataframe thead th {\n",
       "        text-align: left;\n",
       "    }\n",
       "\n",
       "    .dataframe tbody tr th {\n",
       "        vertical-align: top;\n",
       "    }\n",
       "</style>\n",
       "<table border=\"1\" class=\"dataframe\">\n",
       "  <thead>\n",
       "    <tr style=\"text-align: right;\">\n",
       "      <th></th>\n",
       "      <th>stop_id</th>\n",
       "      <th>stop_code</th>\n",
       "      <th>stop_name</th>\n",
       "      <th>stop_desc</th>\n",
       "      <th>stop_lat</th>\n",
       "      <th>stop_lon</th>\n",
       "      <th>zone_id</th>\n",
       "      <th>stop_url</th>\n",
       "      <th>location_type</th>\n",
       "      <th>parent_station</th>\n",
       "      <th>platform_code</th>\n",
       "      <th>wheelchair_boarding</th>\n",
       "    </tr>\n",
       "  </thead>\n",
       "  <tbody>\n",
       "    <tr>\n",
       "      <th>0</th>\n",
       "      <td>70011</td>\n",
       "      <td>70011</td>\n",
       "      <td>San Francisco Caltrain</td>\n",
       "      <td>NaN</td>\n",
       "      <td>37.776390</td>\n",
       "      <td>-122.394992</td>\n",
       "      <td>1.0</td>\n",
       "      <td>NaN</td>\n",
       "      <td>0</td>\n",
       "      <td>NaN</td>\n",
       "      <td>NB</td>\n",
       "      <td>1</td>\n",
       "    </tr>\n",
       "    <tr>\n",
       "      <th>1</th>\n",
       "      <td>70012</td>\n",
       "      <td>70012</td>\n",
       "      <td>San Francisco Caltrain</td>\n",
       "      <td>NaN</td>\n",
       "      <td>37.776348</td>\n",
       "      <td>-122.394935</td>\n",
       "      <td>1.0</td>\n",
       "      <td>NaN</td>\n",
       "      <td>0</td>\n",
       "      <td>NaN</td>\n",
       "      <td>SB</td>\n",
       "      <td>1</td>\n",
       "    </tr>\n",
       "    <tr>\n",
       "      <th>2</th>\n",
       "      <td>70021</td>\n",
       "      <td>70021</td>\n",
       "      <td>22nd St Caltrain</td>\n",
       "      <td>NaN</td>\n",
       "      <td>37.757599</td>\n",
       "      <td>-122.391880</td>\n",
       "      <td>1.0</td>\n",
       "      <td>NaN</td>\n",
       "      <td>0</td>\n",
       "      <td>NaN</td>\n",
       "      <td>NB</td>\n",
       "      <td>2</td>\n",
       "    </tr>\n",
       "    <tr>\n",
       "      <th>3</th>\n",
       "      <td>70022</td>\n",
       "      <td>70022</td>\n",
       "      <td>22nd St Caltrain</td>\n",
       "      <td>NaN</td>\n",
       "      <td>37.757583</td>\n",
       "      <td>-122.392404</td>\n",
       "      <td>1.0</td>\n",
       "      <td>NaN</td>\n",
       "      <td>0</td>\n",
       "      <td>NaN</td>\n",
       "      <td>SB</td>\n",
       "      <td>2</td>\n",
       "    </tr>\n",
       "    <tr>\n",
       "      <th>4</th>\n",
       "      <td>70031</td>\n",
       "      <td>70031</td>\n",
       "      <td>Bayshore Caltrain</td>\n",
       "      <td>NaN</td>\n",
       "      <td>37.709537</td>\n",
       "      <td>-122.401586</td>\n",
       "      <td>1.0</td>\n",
       "      <td>NaN</td>\n",
       "      <td>0</td>\n",
       "      <td>NaN</td>\n",
       "      <td>NB</td>\n",
       "      <td>1</td>\n",
       "    </tr>\n",
       "  </tbody>\n",
       "</table>\n",
       "</div>"
      ],
      "text/plain": [
       "   stop_id  stop_code               stop_name  stop_desc   stop_lat  \\\n",
       "0    70011      70011  San Francisco Caltrain        NaN  37.776390   \n",
       "1    70012      70012  San Francisco Caltrain        NaN  37.776348   \n",
       "2    70021      70021        22nd St Caltrain        NaN  37.757599   \n",
       "3    70022      70022        22nd St Caltrain        NaN  37.757583   \n",
       "4    70031      70031       Bayshore Caltrain        NaN  37.709537   \n",
       "\n",
       "     stop_lon  zone_id  stop_url  location_type  parent_station platform_code  \\\n",
       "0 -122.394992      1.0       NaN              0             NaN            NB   \n",
       "1 -122.394935      1.0       NaN              0             NaN            SB   \n",
       "2 -122.391880      1.0       NaN              0             NaN            NB   \n",
       "3 -122.392404      1.0       NaN              0             NaN            SB   \n",
       "4 -122.401586      1.0       NaN              0             NaN            NB   \n",
       "\n",
       "   wheelchair_boarding  \n",
       "0                    1  \n",
       "1                    1  \n",
       "2                    2  \n",
       "3                    2  \n",
       "4                    1  "
      ]
     },
     "execution_count": 13,
     "metadata": {},
     "output_type": "execute_result"
    }
   ],
   "source": [
    "caltrain = pd.read_csv('data/CT-GTFS/stops.txt')\n",
    "caltrain.head()"
   ]
  },
  {
   "cell_type": "code",
   "execution_count": 14,
   "metadata": {},
   "outputs": [],
   "source": [
    "caltrain = caltrain[caltrain['platform_code'] == 'NB'][['stop_lat','stop_lon','stop_name']]"
   ]
  },
  {
   "cell_type": "code",
   "execution_count": 15,
   "metadata": {},
   "outputs": [],
   "source": [
    "caltrain['agency_name'] = 'Caltrain'"
   ]
  },
  {
   "cell_type": "code",
   "execution_count": 16,
   "metadata": {},
   "outputs": [
    {
     "data": {
      "text/html": [
       "<div>\n",
       "<style>\n",
       "    .dataframe thead tr:only-child th {\n",
       "        text-align: right;\n",
       "    }\n",
       "\n",
       "    .dataframe thead th {\n",
       "        text-align: left;\n",
       "    }\n",
       "\n",
       "    .dataframe tbody tr th {\n",
       "        vertical-align: top;\n",
       "    }\n",
       "</style>\n",
       "<table border=\"1\" class=\"dataframe\">\n",
       "  <thead>\n",
       "    <tr style=\"text-align: right;\">\n",
       "      <th></th>\n",
       "      <th>stop_lat</th>\n",
       "      <th>stop_lon</th>\n",
       "      <th>stop_name</th>\n",
       "      <th>agency_name</th>\n",
       "    </tr>\n",
       "  </thead>\n",
       "  <tbody>\n",
       "    <tr>\n",
       "      <th>0</th>\n",
       "      <td>37.776390</td>\n",
       "      <td>-122.394992</td>\n",
       "      <td>San Francisco Caltrain</td>\n",
       "      <td>Caltrain</td>\n",
       "    </tr>\n",
       "    <tr>\n",
       "      <th>2</th>\n",
       "      <td>37.757599</td>\n",
       "      <td>-122.391880</td>\n",
       "      <td>22nd St Caltrain</td>\n",
       "      <td>Caltrain</td>\n",
       "    </tr>\n",
       "    <tr>\n",
       "      <th>4</th>\n",
       "      <td>37.709537</td>\n",
       "      <td>-122.401586</td>\n",
       "      <td>Bayshore Caltrain</td>\n",
       "      <td>Caltrain</td>\n",
       "    </tr>\n",
       "    <tr>\n",
       "      <th>6</th>\n",
       "      <td>37.655890</td>\n",
       "      <td>-122.404870</td>\n",
       "      <td>So. San Francisco Caltrain Station</td>\n",
       "      <td>Caltrain</td>\n",
       "    </tr>\n",
       "    <tr>\n",
       "      <th>8</th>\n",
       "      <td>37.631128</td>\n",
       "      <td>-122.411968</td>\n",
       "      <td>San Bruno Caltrain</td>\n",
       "      <td>Caltrain</td>\n",
       "    </tr>\n",
       "  </tbody>\n",
       "</table>\n",
       "</div>"
      ],
      "text/plain": [
       "    stop_lat    stop_lon                           stop_name agency_name\n",
       "0  37.776390 -122.394992              San Francisco Caltrain    Caltrain\n",
       "2  37.757599 -122.391880                    22nd St Caltrain    Caltrain\n",
       "4  37.709537 -122.401586                   Bayshore Caltrain    Caltrain\n",
       "6  37.655890 -122.404870  So. San Francisco Caltrain Station    Caltrain\n",
       "8  37.631128 -122.411968                  San Bruno Caltrain    Caltrain"
      ]
     },
     "execution_count": 16,
     "metadata": {},
     "output_type": "execute_result"
    }
   ],
   "source": [
    "caltrain.head()"
   ]
  },
  {
   "cell_type": "code",
   "execution_count": 17,
   "metadata": {},
   "outputs": [
    {
     "data": {
      "image/png": "[encoded data removed]",
      "text/plain": [
       "<matplotlib.figure.Figure at 0x101947be0>"
      ]
     },
     "metadata": {},
     "output_type": "display_data"
    }
   ],
   "source": [
    "sns.set()\n",
    "plt.figure(figsize=(15,10))\n",
    "plt.plot(caltrain['stop_lon'], caltrain['stop_lat'], 'o', markersize=4)\n",
    "plt.show()"
   ]
  },
  {
   "cell_type": "markdown",
   "metadata": {},
   "source": [
    ">### Visualizing the Coordinates Bart"
   ]
  },
  {
   "cell_type": "code",
   "execution_count": 18,
   "metadata": {},
   "outputs": [
    {
     "data": {
      "text/html": [
       "<div>\n",
       "<style>\n",
       "    .dataframe thead tr:only-child th {\n",
       "        text-align: right;\n",
       "    }\n",
       "\n",
       "    .dataframe thead th {\n",
       "        text-align: left;\n",
       "    }\n",
       "\n",
       "    .dataframe tbody tr th {\n",
       "        vertical-align: top;\n",
       "    }\n",
       "</style>\n",
       "<table border=\"1\" class=\"dataframe\">\n",
       "  <thead>\n",
       "    <tr style=\"text-align: right;\">\n",
       "      <th></th>\n",
       "      <th>stop_id</th>\n",
       "      <th>stop_name</th>\n",
       "      <th>stop_desc</th>\n",
       "      <th>stop_lat</th>\n",
       "      <th>stop_lon</th>\n",
       "      <th>zone_id</th>\n",
       "      <th>stop_url</th>\n",
       "      <th>location_type</th>\n",
       "      <th>parent_station</th>\n",
       "      <th>stop_timezone</th>\n",
       "      <th>wheelchair_boarding</th>\n",
       "    </tr>\n",
       "  </thead>\n",
       "  <tbody>\n",
       "    <tr>\n",
       "      <th>0</th>\n",
       "      <td>12TH</td>\n",
       "      <td>12th St. Oakland City Center</td>\n",
       "      <td>NaN</td>\n",
       "      <td>37.803768</td>\n",
       "      <td>-122.271450</td>\n",
       "      <td>12TH</td>\n",
       "      <td>http://www.bart.gov/stations/12TH/</td>\n",
       "      <td>0</td>\n",
       "      <td>NaN</td>\n",
       "      <td>NaN</td>\n",
       "      <td>1</td>\n",
       "    </tr>\n",
       "    <tr>\n",
       "      <th>1</th>\n",
       "      <td>16TH</td>\n",
       "      <td>16th St. Mission</td>\n",
       "      <td>NaN</td>\n",
       "      <td>37.765062</td>\n",
       "      <td>-122.419694</td>\n",
       "      <td>16TH</td>\n",
       "      <td>http://www.bart.gov/stations/16TH/</td>\n",
       "      <td>0</td>\n",
       "      <td>NaN</td>\n",
       "      <td>NaN</td>\n",
       "      <td>1</td>\n",
       "    </tr>\n",
       "    <tr>\n",
       "      <th>2</th>\n",
       "      <td>19TH</td>\n",
       "      <td>19th St. Oakland</td>\n",
       "      <td>NaN</td>\n",
       "      <td>37.808350</td>\n",
       "      <td>-122.268602</td>\n",
       "      <td>19TH</td>\n",
       "      <td>http://www.bart.gov/stations/19TH/</td>\n",
       "      <td>0</td>\n",
       "      <td>NaN</td>\n",
       "      <td>NaN</td>\n",
       "      <td>1</td>\n",
       "    </tr>\n",
       "    <tr>\n",
       "      <th>3</th>\n",
       "      <td>19TH_N</td>\n",
       "      <td>19th St. Oakland</td>\n",
       "      <td>NaN</td>\n",
       "      <td>37.808350</td>\n",
       "      <td>-122.268602</td>\n",
       "      <td>19TH</td>\n",
       "      <td>http://www.bart.gov/stations/19TH/</td>\n",
       "      <td>0</td>\n",
       "      <td>NaN</td>\n",
       "      <td>NaN</td>\n",
       "      <td>1</td>\n",
       "    </tr>\n",
       "    <tr>\n",
       "      <th>4</th>\n",
       "      <td>24TH</td>\n",
       "      <td>24th St. Mission</td>\n",
       "      <td>NaN</td>\n",
       "      <td>37.752470</td>\n",
       "      <td>-122.418143</td>\n",
       "      <td>24TH</td>\n",
       "      <td>http://www.bart.gov/stations/24TH/</td>\n",
       "      <td>0</td>\n",
       "      <td>NaN</td>\n",
       "      <td>NaN</td>\n",
       "      <td>1</td>\n",
       "    </tr>\n",
       "  </tbody>\n",
       "</table>\n",
       "</div>"
      ],
      "text/plain": [
       "  stop_id                     stop_name  stop_desc   stop_lat    stop_lon  \\\n",
       "0    12TH  12th St. Oakland City Center        NaN  37.803768 -122.271450   \n",
       "1    16TH              16th St. Mission        NaN  37.765062 -122.419694   \n",
       "2    19TH              19th St. Oakland        NaN  37.808350 -122.268602   \n",
       "3  19TH_N              19th St. Oakland        NaN  37.808350 -122.268602   \n",
       "4    24TH              24th St. Mission        NaN  37.752470 -122.418143   \n",
       "\n",
       "  zone_id                            stop_url  location_type  parent_station  \\\n",
       "0    12TH  http://www.bart.gov/stations/12TH/              0             NaN   \n",
       "1    16TH  http://www.bart.gov/stations/16TH/              0             NaN   \n",
       "2    19TH  http://www.bart.gov/stations/19TH/              0             NaN   \n",
       "3    19TH  http://www.bart.gov/stations/19TH/              0             NaN   \n",
       "4    24TH  http://www.bart.gov/stations/24TH/              0             NaN   \n",
       "\n",
       "   stop_timezone  wheelchair_boarding  \n",
       "0            NaN                    1  \n",
       "1            NaN                    1  \n",
       "2            NaN                    1  \n",
       "3            NaN                    1  \n",
       "4            NaN                    1  "
      ]
     },
     "execution_count": 18,
     "metadata": {},
     "output_type": "execute_result"
    }
   ],
   "source": [
    "bart = pd.read_csv('data/GTFS-20180212_v2/stops.txt')\n",
    "bart.head()"
   ]
  },
  {
   "cell_type": "code",
   "execution_count": 19,
   "metadata": {},
   "outputs": [],
   "source": [
    "bart['agency_name'] = 'Bart'"
   ]
  },
  {
   "cell_type": "code",
   "execution_count": 20,
   "metadata": {},
   "outputs": [
    {
     "data": {
      "text/html": [
       "<div>\n",
       "<style>\n",
       "    .dataframe thead tr:only-child th {\n",
       "        text-align: right;\n",
       "    }\n",
       "\n",
       "    .dataframe thead th {\n",
       "        text-align: left;\n",
       "    }\n",
       "\n",
       "    .dataframe tbody tr th {\n",
       "        vertical-align: top;\n",
       "    }\n",
       "</style>\n",
       "<table border=\"1\" class=\"dataframe\">\n",
       "  <thead>\n",
       "    <tr style=\"text-align: right;\">\n",
       "      <th></th>\n",
       "      <th>stop_id</th>\n",
       "      <th>stop_name</th>\n",
       "      <th>stop_desc</th>\n",
       "      <th>stop_lat</th>\n",
       "      <th>stop_lon</th>\n",
       "      <th>zone_id</th>\n",
       "      <th>stop_url</th>\n",
       "      <th>location_type</th>\n",
       "      <th>parent_station</th>\n",
       "      <th>stop_timezone</th>\n",
       "      <th>wheelchair_boarding</th>\n",
       "      <th>agency_name</th>\n",
       "    </tr>\n",
       "  </thead>\n",
       "  <tbody>\n",
       "    <tr>\n",
       "      <th>3</th>\n",
       "      <td>19TH_N</td>\n",
       "      <td>19th St. Oakland</td>\n",
       "      <td>NaN</td>\n",
       "      <td>37.808350</td>\n",
       "      <td>-122.268602</td>\n",
       "      <td>19TH</td>\n",
       "      <td>http://www.bart.gov/stations/19TH/</td>\n",
       "      <td>0</td>\n",
       "      <td>NaN</td>\n",
       "      <td>NaN</td>\n",
       "      <td>1</td>\n",
       "      <td>Bart</td>\n",
       "    </tr>\n",
       "    <tr>\n",
       "      <th>26</th>\n",
       "      <td>MCAR_S</td>\n",
       "      <td>MacArthur</td>\n",
       "      <td>NaN</td>\n",
       "      <td>37.829065</td>\n",
       "      <td>-122.267040</td>\n",
       "      <td>MCAR</td>\n",
       "      <td>http://www.bart.gov/stations/MCAR/</td>\n",
       "      <td>0</td>\n",
       "      <td>NaN</td>\n",
       "      <td>NaN</td>\n",
       "      <td>1</td>\n",
       "      <td>Bart</td>\n",
       "    </tr>\n",
       "  </tbody>\n",
       "</table>\n",
       "</div>"
      ],
      "text/plain": [
       "   stop_id         stop_name  stop_desc   stop_lat    stop_lon zone_id  \\\n",
       "3   19TH_N  19th St. Oakland        NaN  37.808350 -122.268602    19TH   \n",
       "26  MCAR_S         MacArthur        NaN  37.829065 -122.267040    MCAR   \n",
       "\n",
       "                              stop_url  location_type  parent_station  \\\n",
       "3   http://www.bart.gov/stations/19TH/              0             NaN   \n",
       "26  http://www.bart.gov/stations/MCAR/              0             NaN   \n",
       "\n",
       "    stop_timezone  wheelchair_boarding agency_name  \n",
       "3             NaN                    1        Bart  \n",
       "26            NaN                    1        Bart  "
      ]
     },
     "execution_count": 20,
     "metadata": {},
     "output_type": "execute_result"
    }
   ],
   "source": [
    "bart[bart['stop_name'].duplicated()]"
   ]
  },
  {
   "cell_type": "code",
   "execution_count": 21,
   "metadata": {},
   "outputs": [],
   "source": [
    "bart = bart[~bart['stop_name'].duplicated()]"
   ]
  },
  {
   "cell_type": "code",
   "execution_count": 22,
   "metadata": {},
   "outputs": [],
   "source": [
    "bart = bart[['stop_lat','stop_lon','stop_name','agency_name']]"
   ]
  },
  {
   "cell_type": "code",
   "execution_count": 23,
   "metadata": {},
   "outputs": [
    {
     "data": {
      "image/png": "[encoded data removed]",
      "text/plain": [
       "<matplotlib.figure.Figure at 0x1023da668>"
      ]
     },
     "metadata": {},
     "output_type": "display_data"
    }
   ],
   "source": [
    "sns.set()\n",
    "plt.figure(figsize=(15,10))\n",
    "plt.plot(bart['stop_lon'], bart['stop_lat'], 'o', markersize=5)\n",
    "plt.show()"
   ]
  },
  {
   "cell_type": "code",
   "execution_count": 24,
   "metadata": {},
   "outputs": [],
   "source": [
    "df = df.append(caltrain, ignore_index=True)"
   ]
  },
  {
   "cell_type": "code",
   "execution_count": 25,
   "metadata": {},
   "outputs": [],
   "source": [
    "df = df.append(bart, ignore_index=True)"
   ]
  },
  {
   "cell_type": "code",
   "execution_count": 26,
   "metadata": {},
   "outputs": [
    {
     "data": {
      "image/png": "[encoded data removed]",
      "text/plain": [
       "<matplotlib.figure.Figure at 0x1a0f2eb128>"
      ]
     },
     "metadata": {},
     "output_type": "display_data"
    }
   ],
   "source": [
    "fig, ax = plt.subplots(figsize=(15, 15))\n",
    "ax.set_aspect(1)\n",
    "\n",
    "muni_x = df[df['agency_name'] == 'Muni']['stop_lon']\n",
    "muni_y = df[df['agency_name'] == 'Muni']['stop_lat']\n",
    "caltrain_x = df[df['agency_name'] == 'Caltrain']['stop_lon']\n",
    "caltrain_y = df[df['agency_name'] == 'Caltrain']['stop_lat']\n",
    "bart_x = df[df['agency_name'] == 'Bart']['stop_lon']\n",
    "bart_y = df[df['agency_name'] == 'Bart']['stop_lat']\n",
    "\n",
    "ax.plot(muni_x, muni_y, 'o', markersize=3)\n",
    "ax.plot(caltrain_x, caltrain_y, 'o', markersize=3)\n",
    "ax.plot(bart_x, bart_y, 'o', markersize=3)\n",
    "plt.show()"
   ]
  },
  {
   "cell_type": "markdown",
   "metadata": {},
   "source": [
    ">### Solution for Finding Closest Public Transit\n",
    "\n",
    "> NearestNeighbors implements unsupervised nearest neighbors learning. It acts as a uniform interface to three different nearest neighbors algorithms: BallTree, KDTree, and a brute-force algorithm."
   ]
  },
  {
   "cell_type": "markdown",
   "metadata": {},
   "source": [
    "> ### Common NearestNeighbors Distance Functions\n",
    "> These distance functions can be used with NearestNeighbors. Minkowski is default distance function.\n",
    ">\n",
    "> ### Euclidean  \n",
    "> $\\sqrt{\\sum\\limits_{i=1}^k(x_i - y_i)^2}$\n",
    ">\n",
    "> ### Manhattan \n",
    "> $\\sum\\limits_{i=1}^k \\left| x_i - y_i \\right|$\n",
    ">\n",
    "> ### Minkowski\n",
    "> $\\left(\\sum_{i=1}^n |x_i-y_i|^p\\right)^{1/p}$"
   ]
  },
  {
   "cell_type": "markdown",
   "metadata": {},
   "source": [
    ">### Training and Fitting the Model"
   ]
  },
  {
   "cell_type": "code",
   "execution_count": 27,
   "metadata": {},
   "outputs": [
    {
     "data": {
      "text/plain": [
       "NearestNeighbors(algorithm='auto', leaf_size=30, metric='minkowski',\n",
       "         metric_params=None, n_jobs=1, n_neighbors=5, p=2, radius=1.0)"
      ]
     },
     "execution_count": 27,
     "metadata": {},
     "output_type": "execute_result"
    }
   ],
   "source": [
    "lat = df['stop_lat'].values.reshape(-1, 1)\n",
    "lon = df['stop_lon'].values.reshape(-1, 1)\n",
    "X = np.concatenate((lat, lon), axis=1)\n",
    "neigh = NearestNeighbors()\n",
    "neigh.fit(X) "
   ]
  },
  {
   "cell_type": "code",
   "execution_count": 28,
   "metadata": {},
   "outputs": [],
   "source": [
    "def find_nearest_transit(coordinates):\n",
    "    distance = neigh.kneighbors([coordinates])[0][0]\n",
    "    indices = neigh.kneighbors([coordinates])[1]\n",
    "    for index in indices:\n",
    "        op = df.loc[index][['stop_name','agency_name']]\n",
    "    op.reset_index(drop=True, inplace=True)\n",
    "    op['distance'] = distance\n",
    "    return op"
   ]
  },
  {
   "cell_type": "code",
   "execution_count": 29,
   "metadata": {},
   "outputs": [],
   "source": [
    "coordinates = [37.773196, -122.405386]"
   ]
  },
  {
   "cell_type": "code",
   "execution_count": 30,
   "metadata": {},
   "outputs": [
    {
     "data": {
      "text/html": [
       "<div>\n",
       "<style>\n",
       "    .dataframe thead tr:only-child th {\n",
       "        text-align: right;\n",
       "    }\n",
       "\n",
       "    .dataframe thead th {\n",
       "        text-align: left;\n",
       "    }\n",
       "\n",
       "    .dataframe tbody tr th {\n",
       "        vertical-align: top;\n",
       "    }\n",
       "</style>\n",
       "<table border=\"1\" class=\"dataframe\">\n",
       "  <thead>\n",
       "    <tr style=\"text-align: right;\">\n",
       "      <th></th>\n",
       "      <th>stop_name</th>\n",
       "      <th>agency_name</th>\n",
       "      <th>distance</th>\n",
       "    </tr>\n",
       "  </thead>\n",
       "  <tbody>\n",
       "    <tr>\n",
       "      <th>0</th>\n",
       "      <td>7th St &amp; Bryant St</td>\n",
       "      <td>Muni</td>\n",
       "      <td>0.001442</td>\n",
       "    </tr>\n",
       "    <tr>\n",
       "      <th>1</th>\n",
       "      <td>Bryant St &amp; 7th St</td>\n",
       "      <td>Muni</td>\n",
       "      <td>0.001485</td>\n",
       "    </tr>\n",
       "    <tr>\n",
       "      <th>2</th>\n",
       "      <td>8th St &amp; Brannan St</td>\n",
       "      <td>Muni</td>\n",
       "      <td>0.001721</td>\n",
       "    </tr>\n",
       "    <tr>\n",
       "      <th>3</th>\n",
       "      <td>8th St &amp; Bryant St</td>\n",
       "      <td>Muni</td>\n",
       "      <td>0.001862</td>\n",
       "    </tr>\n",
       "    <tr>\n",
       "      <th>4</th>\n",
       "      <td>Brannan St &amp; 8th ST</td>\n",
       "      <td>Muni</td>\n",
       "      <td>0.001880</td>\n",
       "    </tr>\n",
       "  </tbody>\n",
       "</table>\n",
       "</div>"
      ],
      "text/plain": [
       "             stop_name agency_name  distance\n",
       "0   7th St & Bryant St        Muni  0.001442\n",
       "1   Bryant St & 7th St        Muni  0.001485\n",
       "2  8th St & Brannan St        Muni  0.001721\n",
       "3   8th St & Bryant St        Muni  0.001862\n",
       "4  Brannan St & 8th ST        Muni  0.001880"
      ]
     },
     "execution_count": 30,
     "metadata": {},
     "output_type": "execute_result"
    }
   ],
   "source": [
    "find_nearest_transit(coordinates)"
   ]
  },
  {
   "cell_type": "code",
   "execution_count": 31,
   "metadata": {},
   "outputs": [],
   "source": [
    "Zuckerberg_General_Hospital = [37.755195, -122.405083]"
   ]
  },
  {
   "cell_type": "code",
   "execution_count": 32,
   "metadata": {},
   "outputs": [
    {
     "data": {
      "text/html": [
       "<div>\n",
       "<style>\n",
       "    .dataframe thead tr:only-child th {\n",
       "        text-align: right;\n",
       "    }\n",
       "\n",
       "    .dataframe thead th {\n",
       "        text-align: left;\n",
       "    }\n",
       "\n",
       "    .dataframe tbody tr th {\n",
       "        vertical-align: top;\n",
       "    }\n",
       "</style>\n",
       "<table border=\"1\" class=\"dataframe\">\n",
       "  <thead>\n",
       "    <tr style=\"text-align: right;\">\n",
       "      <th></th>\n",
       "      <th>stop_name</th>\n",
       "      <th>agency_name</th>\n",
       "      <th>distance</th>\n",
       "    </tr>\n",
       "  </thead>\n",
       "  <tbody>\n",
       "    <tr>\n",
       "      <th>0</th>\n",
       "      <td>23rd St &amp; Utah St</td>\n",
       "      <td>Muni</td>\n",
       "      <td>0.000788</td>\n",
       "    </tr>\n",
       "    <tr>\n",
       "      <th>1</th>\n",
       "      <td>Potrero Ave At SF General Hospital</td>\n",
       "      <td>Muni</td>\n",
       "      <td>0.001406</td>\n",
       "    </tr>\n",
       "    <tr>\n",
       "      <th>2</th>\n",
       "      <td>Sf General Hospital</td>\n",
       "      <td>Muni</td>\n",
       "      <td>0.001584</td>\n",
       "    </tr>\n",
       "    <tr>\n",
       "      <th>3</th>\n",
       "      <td>23rd St &amp; Vermont St</td>\n",
       "      <td>Muni</td>\n",
       "      <td>0.001658</td>\n",
       "    </tr>\n",
       "    <tr>\n",
       "      <th>4</th>\n",
       "      <td>Potrero Ave &amp; 23rd St</td>\n",
       "      <td>Muni</td>\n",
       "      <td>0.001682</td>\n",
       "    </tr>\n",
       "  </tbody>\n",
       "</table>\n",
       "</div>"
      ],
      "text/plain": [
       "                            stop_name agency_name  distance\n",
       "0                   23rd St & Utah St        Muni  0.000788\n",
       "1  Potrero Ave At SF General Hospital        Muni  0.001406\n",
       "2                 Sf General Hospital        Muni  0.001584\n",
       "3                23rd St & Vermont St        Muni  0.001658\n",
       "4               Potrero Ave & 23rd St        Muni  0.001682"
      ]
     },
     "execution_count": 32,
     "metadata": {},
     "output_type": "execute_result"
    }
   ],
   "source": [
    "find_nearest_transit(Zuckerberg_General_Hospital)"
   ]
  },
  {
   "cell_type": "code",
   "execution_count": 33,
   "metadata": {},
   "outputs": [],
   "source": [
    "UCSF_Childrens_Hospital = [37.764932, -122.389720]"
   ]
  },
  {
   "cell_type": "code",
   "execution_count": 34,
   "metadata": {},
   "outputs": [
    {
     "data": {
      "text/html": [
       "<div>\n",
       "<style>\n",
       "    .dataframe thead tr:only-child th {\n",
       "        text-align: right;\n",
       "    }\n",
       "\n",
       "    .dataframe thead th {\n",
       "        text-align: left;\n",
       "    }\n",
       "\n",
       "    .dataframe tbody tr th {\n",
       "        vertical-align: top;\n",
       "    }\n",
       "</style>\n",
       "<table border=\"1\" class=\"dataframe\">\n",
       "  <thead>\n",
       "    <tr style=\"text-align: right;\">\n",
       "      <th></th>\n",
       "      <th>stop_name</th>\n",
       "      <th>agency_name</th>\n",
       "      <th>distance</th>\n",
       "    </tr>\n",
       "  </thead>\n",
       "  <tbody>\n",
       "    <tr>\n",
       "      <th>0</th>\n",
       "      <td>Third St &amp; Mariposa St.</td>\n",
       "      <td>Muni</td>\n",
       "      <td>0.001082</td>\n",
       "    </tr>\n",
       "    <tr>\n",
       "      <th>1</th>\n",
       "      <td>Third St &amp; Mariposa St</td>\n",
       "      <td>Muni</td>\n",
       "      <td>0.001084</td>\n",
       "    </tr>\n",
       "    <tr>\n",
       "      <th>2</th>\n",
       "      <td>Third Street &amp; Mariposa St</td>\n",
       "      <td>Muni</td>\n",
       "      <td>0.001101</td>\n",
       "    </tr>\n",
       "    <tr>\n",
       "      <th>3</th>\n",
       "      <td>Tennessee St &amp; 18th St</td>\n",
       "      <td>Muni</td>\n",
       "      <td>0.002033</td>\n",
       "    </tr>\n",
       "    <tr>\n",
       "      <th>4</th>\n",
       "      <td>16th St &amp; 4th St</td>\n",
       "      <td>Muni</td>\n",
       "      <td>0.002088</td>\n",
       "    </tr>\n",
       "  </tbody>\n",
       "</table>\n",
       "</div>"
      ],
      "text/plain": [
       "                    stop_name agency_name  distance\n",
       "0     Third St & Mariposa St.        Muni  0.001082\n",
       "1      Third St & Mariposa St        Muni  0.001084\n",
       "2  Third Street & Mariposa St        Muni  0.001101\n",
       "3      Tennessee St & 18th St        Muni  0.002033\n",
       "4            16th St & 4th St        Muni  0.002088"
      ]
     },
     "execution_count": 34,
     "metadata": {},
     "output_type": "execute_result"
    }
   ],
   "source": [
    "find_nearest_transit(UCSF_Childrens_Hospital)"
   ]
  },
  {
   "cell_type": "code",
   "execution_count": 35,
   "metadata": {},
   "outputs": [],
   "source": [
    "Westfield_SF_Mall = [37.784304, -122.407562]"
   ]
  },
  {
   "cell_type": "code",
   "execution_count": 36,
   "metadata": {},
   "outputs": [
    {
     "data": {
      "text/html": [
       "<div>\n",
       "<style>\n",
       "    .dataframe thead tr:only-child th {\n",
       "        text-align: right;\n",
       "    }\n",
       "\n",
       "    .dataframe thead th {\n",
       "        text-align: left;\n",
       "    }\n",
       "\n",
       "    .dataframe tbody tr th {\n",
       "        vertical-align: top;\n",
       "    }\n",
       "</style>\n",
       "<table border=\"1\" class=\"dataframe\">\n",
       "  <thead>\n",
       "    <tr style=\"text-align: right;\">\n",
       "      <th></th>\n",
       "      <th>stop_name</th>\n",
       "      <th>agency_name</th>\n",
       "      <th>distance</th>\n",
       "    </tr>\n",
       "  </thead>\n",
       "  <tbody>\n",
       "    <tr>\n",
       "      <th>0</th>\n",
       "      <td>Metro Powell Station/Downtown</td>\n",
       "      <td>Muni</td>\n",
       "      <td>0.000169</td>\n",
       "    </tr>\n",
       "    <tr>\n",
       "      <th>1</th>\n",
       "      <td>Market St &amp; Powell St</td>\n",
       "      <td>Muni</td>\n",
       "      <td>0.000171</td>\n",
       "    </tr>\n",
       "    <tr>\n",
       "      <th>2</th>\n",
       "      <td>Metro Powell Station/Outbound</td>\n",
       "      <td>Muni</td>\n",
       "      <td>0.000260</td>\n",
       "    </tr>\n",
       "    <tr>\n",
       "      <th>3</th>\n",
       "      <td>Powell St &amp; Market St</td>\n",
       "      <td>Muni</td>\n",
       "      <td>0.000399</td>\n",
       "    </tr>\n",
       "    <tr>\n",
       "      <th>4</th>\n",
       "      <td>Powell St.</td>\n",
       "      <td>Bart</td>\n",
       "      <td>0.000445</td>\n",
       "    </tr>\n",
       "  </tbody>\n",
       "</table>\n",
       "</div>"
      ],
      "text/plain": [
       "                       stop_name agency_name  distance\n",
       "0  Metro Powell Station/Downtown        Muni  0.000169\n",
       "1          Market St & Powell St        Muni  0.000171\n",
       "2  Metro Powell Station/Outbound        Muni  0.000260\n",
       "3          Powell St & Market St        Muni  0.000399\n",
       "4                     Powell St.        Bart  0.000445"
      ]
     },
     "execution_count": 36,
     "metadata": {},
     "output_type": "execute_result"
    }
   ],
   "source": [
    "find_nearest_transit(Westfield_SF_Mall)"
   ]
  },
  {
   "cell_type": "code",
   "execution_count": null,
   "metadata": {},
   "outputs": [],
   "source": []
  },
  {
   "cell_type": "code",
   "execution_count": null,
   "metadata": {},
   "outputs": [],
   "source": []
  }
 ],
 "metadata": {
  "kernelspec": {
   "display_name": "Python 3",
   "language": "python",
   "name": "python3"
  },
  "language_info": {
   "codemirror_mode": {
    "name": "ipython",
    "version": 3
   },
   "file_extension": ".py",
   "mimetype": "text/x-python",
   "name": "python",
   "nbconvert_exporter": "python",
   "pygments_lexer": "ipython3",
   "version": "3.6.3"
  }
 },
 "nbformat": 4,
 "nbformat_minor": 2
}
